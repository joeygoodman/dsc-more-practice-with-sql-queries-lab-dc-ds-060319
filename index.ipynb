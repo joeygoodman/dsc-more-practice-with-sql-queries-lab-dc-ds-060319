{
 "cells": [
  {
   "cell_type": "markdown",
   "metadata": {},
   "source": [
    "# More Practice With SQL Queries - Lab\n",
    "\n",
    "## Introduction\n",
    "\n",
    "In this lesson, we'll run through some practice questions to refresh our knowledge of SQL Queries!\n",
    "\n",
    "## Objectives\n",
    "\n",
    "You will be able to:\n",
    "\n",
    "- Practice your SQL knowledge\n",
    "\n",
    "## Getting Started\n",
    "\n",
    "As in previous labs, we'll make use of the `sqlite3` library as well as `pandas`. By combining them, we'll be able to write our queries as python strings, and make sure that the results are always returned as a pandas DataFrame. \n",
    "\n",
    "We'll start by loading both libraries and connecting to the database we'll be using for this lab, `data.sqlite`. You may remember this database from a previous lab. As a refresher, here's the ERD diagram for this database: \n",
    "\n",
    "<img src='images/Database-Schema.png'>\n",
    "\n",
    "In the cell below:\n",
    "\n",
    "* Import the necessary libraries `pandas` and `sqlite3`\n",
    "* Establish a connection to the database `data.sqlite`\n",
    "* Get the `cursor` from the connection and store it in the variable `c`."
   ]
  },
  {
   "cell_type": "code",
   "execution_count": 3,
   "metadata": {},
   "outputs": [],
   "source": [
    "import pandas as pd\n",
    "import sqlite3\n",
    "conn = sqlite3.Connection('data.sqlite')\n",
    "c = conn.cursor()"
   ]
  },
  {
   "cell_type": "markdown",
   "metadata": {},
   "source": [
    "## Basic Queries\n",
    "\n",
    "Now, let's review basic SQL queries. In the cell below:\n",
    "\n",
    "* Write a query that gets the first name, last name, phone number, address, and credit limit for all customers in California with a credit limit greater than 25000.00. "
   ]
  },
  {
   "cell_type": "code",
   "execution_count": 4,
   "metadata": {},
   "outputs": [
    {
     "data": {
      "text/html": [
       "<div>\n",
       "<style scoped>\n",
       "    .dataframe tbody tr th:only-of-type {\n",
       "        vertical-align: middle;\n",
       "    }\n",
       "\n",
       "    .dataframe tbody tr th {\n",
       "        vertical-align: top;\n",
       "    }\n",
       "\n",
       "    .dataframe thead th {\n",
       "        text-align: right;\n",
       "    }\n",
       "</style>\n",
       "<table border=\"1\" class=\"dataframe\">\n",
       "  <thead>\n",
       "    <tr style=\"text-align: right;\">\n",
       "      <th></th>\n",
       "      <th>type</th>\n",
       "      <th>name</th>\n",
       "      <th>tbl_name</th>\n",
       "      <th>rootpage</th>\n",
       "      <th>sql</th>\n",
       "    </tr>\n",
       "  </thead>\n",
       "  <tbody>\n",
       "    <tr>\n",
       "      <th>0</th>\n",
       "      <td>table</td>\n",
       "      <td>orderdetails</td>\n",
       "      <td>orderdetails</td>\n",
       "      <td>2</td>\n",
       "      <td>CREATE TABLE `orderdetails` (`orderNumber`, `p...</td>\n",
       "    </tr>\n",
       "    <tr>\n",
       "      <th>1</th>\n",
       "      <td>table</td>\n",
       "      <td>payments</td>\n",
       "      <td>payments</td>\n",
       "      <td>28</td>\n",
       "      <td>CREATE TABLE `payments` (`customerNumber`, `ch...</td>\n",
       "    </tr>\n",
       "    <tr>\n",
       "      <th>2</th>\n",
       "      <td>table</td>\n",
       "      <td>offices</td>\n",
       "      <td>offices</td>\n",
       "      <td>32</td>\n",
       "      <td>CREATE TABLE `offices` (`officeCode`, `city`, ...</td>\n",
       "    </tr>\n",
       "    <tr>\n",
       "      <th>3</th>\n",
       "      <td>table</td>\n",
       "      <td>orders</td>\n",
       "      <td>orders</td>\n",
       "      <td>38</td>\n",
       "      <td>CREATE TABLE `orders` (`orderNumber`, `orderDa...</td>\n",
       "    </tr>\n",
       "    <tr>\n",
       "      <th>4</th>\n",
       "      <td>table</td>\n",
       "      <td>productlines</td>\n",
       "      <td>productlines</td>\n",
       "      <td>46</td>\n",
       "      <td>CREATE TABLE `productlines` (`productLine`, `t...</td>\n",
       "    </tr>\n",
       "    <tr>\n",
       "      <th>5</th>\n",
       "      <td>table</td>\n",
       "      <td>products</td>\n",
       "      <td>products</td>\n",
       "      <td>47</td>\n",
       "      <td>CREATE TABLE `products` (`productCode`, `produ...</td>\n",
       "    </tr>\n",
       "    <tr>\n",
       "      <th>6</th>\n",
       "      <td>table</td>\n",
       "      <td>employees</td>\n",
       "      <td>employees</td>\n",
       "      <td>56</td>\n",
       "      <td>CREATE TABLE `employees` (`employeeNumber`, `l...</td>\n",
       "    </tr>\n",
       "    <tr>\n",
       "      <th>7</th>\n",
       "      <td>table</td>\n",
       "      <td>customers</td>\n",
       "      <td>customers</td>\n",
       "      <td>33</td>\n",
       "      <td>CREATE TABLE customers (customerNumber  INTEGE...</td>\n",
       "    </tr>\n",
       "  </tbody>\n",
       "</table>\n",
       "</div>"
      ],
      "text/plain": [
       "    type          name      tbl_name  rootpage  \\\n",
       "0  table  orderdetails  orderdetails         2   \n",
       "1  table      payments      payments        28   \n",
       "2  table       offices       offices        32   \n",
       "3  table        orders        orders        38   \n",
       "4  table  productlines  productlines        46   \n",
       "5  table      products      products        47   \n",
       "6  table     employees     employees        56   \n",
       "7  table     customers     customers        33   \n",
       "\n",
       "                                                 sql  \n",
       "0  CREATE TABLE `orderdetails` (`orderNumber`, `p...  \n",
       "1  CREATE TABLE `payments` (`customerNumber`, `ch...  \n",
       "2  CREATE TABLE `offices` (`officeCode`, `city`, ...  \n",
       "3  CREATE TABLE `orders` (`orderNumber`, `orderDa...  \n",
       "4  CREATE TABLE `productlines` (`productLine`, `t...  \n",
       "5  CREATE TABLE `products` (`productCode`, `produ...  \n",
       "6  CREATE TABLE `employees` (`employeeNumber`, `l...  \n",
       "7  CREATE TABLE customers (customerNumber  INTEGE...  "
      ]
     },
     "execution_count": 4,
     "metadata": {},
     "output_type": "execute_result"
    }
   ],
   "source": [
    "# For the first query, the boilerplate for getting \n",
    "#the query into a dataframe has been provided for you\n",
    "c.execute(\"\"\" \n",
    "    select *\n",
    "    from sqlite_master\n",
    ";\"\"\")\n",
    "df = pd.DataFrame(c.fetchall())\n",
    "df.columns = [x[0] for x in c.description]\n",
    "df"
   ]
  },
  {
   "cell_type": "markdown",
   "metadata": {},
   "source": [
    "#### Expected Output\n",
    "\n",
    "<img src='images/expected-output-1.png'>\n",
    "\n",
    "## Aggregate Functions and GROUP BY\n",
    "\n",
    "Next, write a query that get sthe average credit limit per state."
   ]
  },
  {
   "cell_type": "code",
   "execution_count": null,
   "metadata": {},
   "outputs": [],
   "source": []
  },
  {
   "cell_type": "markdown",
   "metadata": {},
   "source": [
    "#### Expected Output\n",
    "\n",
    "<img src='images/expected-output-2.png'>\n",
    "\n",
    "## JOINs\n",
    "\n",
    "Now, write a query that uses JOIN statements to get the customer name, customer number, order number, status, and quantity ordered. Print only the head of this DataFrame. "
   ]
  },
  {
   "cell_type": "code",
   "execution_count": null,
   "metadata": {},
   "outputs": [],
   "source": []
  },
  {
   "cell_type": "markdown",
   "metadata": {},
   "source": [
    "#### Expected Output\n",
    "\n",
    "<img src='images/expected-output-3.png'>\n",
    "\n",
    "## HAVING and ORDER BY\n",
    "\n",
    "Now, return the customerName, customrerNumber, productName, productCode and total number ordered for any product a customer has bought 10 or more of cumulatively. Sort the rows in descending order by the quantity ordered. \n",
    "\n",
    "**_Hint_**: For this one, you'll need to make use of HAVING, GROUP BY, and ORDER BY--make sure you get the order of them correct!"
   ]
  },
  {
   "cell_type": "code",
   "execution_count": null,
   "metadata": {},
   "outputs": [],
   "source": []
  },
  {
   "cell_type": "markdown",
   "metadata": {},
   "source": [
    "#### Expected Output\n",
    "\n",
    "<img src='images/expected-output-4.png'>\n",
    "\n",
    "## Subqueries\n",
    "\n",
    "Finally, get the first name, last name, employee number, and office code for employees from an office with less than 5 employees. "
   ]
  },
  {
   "cell_type": "code",
   "execution_count": null,
   "metadata": {},
   "outputs": [],
   "source": []
  },
  {
   "cell_type": "markdown",
   "metadata": {},
   "source": [
    "#### Expected Output\n",
    "\n",
    "<img src='images/expected-output-5.png'>\n",
    "\n",
    "# Summary\n",
    "\n",
    "In this lesson, we reviewed all the major concepts and keywords associated with SQL queries!"
   ]
  }
 ],
 "metadata": {
  "kernelspec": {
   "display_name": "Python 3",
   "language": "python",
   "name": "python3"
  },
  "language_info": {
   "codemirror_mode": {
    "name": "ipython",
    "version": 3
   },
   "file_extension": ".py",
   "mimetype": "text/x-python",
   "name": "python",
   "nbconvert_exporter": "python",
   "pygments_lexer": "ipython3",
   "version": "3.6.6"
  }
 },
 "nbformat": 4,
 "nbformat_minor": 2
}
